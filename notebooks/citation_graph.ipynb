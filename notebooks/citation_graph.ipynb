{
 "cells": [
  {
   "cell_type": "markdown",
   "metadata": {},
   "source": [
    "# Citation Graph\n",
    "\n",
    "Retrieve the citation graph of a set of papers related to a keyword."
   ]
  },
  {
   "cell_type": "code",
   "execution_count": 1,
   "metadata": {},
   "outputs": [],
   "source": [
    "%load_ext autoreload\n",
    "%autoreload 2"
   ]
  },
  {
   "cell_type": "code",
   "execution_count": 74,
   "metadata": {},
   "outputs": [],
   "source": [
    "import networkx as nx\n",
    "import matplotlib.pyplot as plt\n",
    "import numpy as np\n",
    "import pandas as pd\n",
    "import pickle\n",
    "\n",
    "from Bio import Entrez\n",
    "Entrez.email = \"samuel.ortion@etud.univ-evry.fr\"\n",
    "\n",
    "import pubmed.explorer\n"
   ]
  },
  {
   "cell_type": "markdown",
   "metadata": {},
   "source": [
    "## Retrieve a list of PMIDS"
   ]
  },
  {
   "cell_type": "code",
   "execution_count": 84,
   "metadata": {},
   "outputs": [],
   "source": [
    "start_date = 2010\n",
    "end_date = 2022\n",
    "query = \"cancer\"\n",
    "explorer = pubmed.explorer.Explorer()\n",
    "downloaded = True # Change this if you do not already have the csv.\n",
    "if not downloaded:\n",
    "    raw_data = list(explorer.query(query, start_date, end_date, maxret=100))\n",
    "    extracted_data = list(\n",
    "    map(\n",
    "        explorer.extract_info,\n",
    "        raw_data)\n",
    "    )\n",
    "    if None in extracted_data:\n",
    "        extracted_data.remove(None)\n",
    "    data_series = dict(\n",
    "        pmid=[],\n",
    "        title=[],\n",
    "        doi=[],\n",
    "        main_author=[],\n",
    "        date=[],\n",
    "        keywords=[],\n",
    "    )\n",
    "\n",
    "    for row in extracted_data:\n",
    "        for key in row:\n",
    "            data_series[key].append(row[key])\n",
    "\n",
    "    df = pd.DataFrame(data_series)\n",
    "    df.to_csv(f\"../tmp/pubmed_{query}_{start_date}-{end_date}.csv\", index=False)\n",
    "    with open(f\"../tmp/pubmed_{query}_{start_date}-{end_date}.pkl\", \"wb\") as pickle_file:\n",
    "        pickle.dump(list(raw_data), pickle_file)\n",
    "else:\n",
    "    df = pd.read_csv(f\"../tmp/pubmed_{query}_{start_date}-{end_date}.csv\")\n",
    "    with open(f\"../tmp/pubmed_{query}_{start_date}-{end_date}.pkl\", \"rb\") as pickle_file:\n",
    "        raw_data = pickle.load(pickle_file)"
   ]
  },
  {
   "cell_type": "code",
   "execution_count": 85,
   "metadata": {},
   "outputs": [
    {
     "data": {
      "text/html": [
       "<div>\n",
       "<style scoped>\n",
       "    .dataframe tbody tr th:only-of-type {\n",
       "        vertical-align: middle;\n",
       "    }\n",
       "\n",
       "    .dataframe tbody tr th {\n",
       "        vertical-align: top;\n",
       "    }\n",
       "\n",
       "    .dataframe thead th {\n",
       "        text-align: right;\n",
       "    }\n",
       "</style>\n",
       "<table border=\"1\" class=\"dataframe\">\n",
       "  <thead>\n",
       "    <tr style=\"text-align: right;\">\n",
       "      <th></th>\n",
       "      <th>pmid</th>\n",
       "      <th>title</th>\n",
       "      <th>doi</th>\n",
       "      <th>main_author</th>\n",
       "      <th>date</th>\n",
       "      <th>keywords</th>\n",
       "    </tr>\n",
       "  </thead>\n",
       "  <tbody>\n",
       "    <tr>\n",
       "      <th>0</th>\n",
       "      <td>37892700</td>\n",
       "      <td>Suicide among Cancer Patients: Current Knowled...</td>\n",
       "      <td>6563</td>\n",
       "      <td>Grobman, Ben</td>\n",
       "      <td>2023-10-16</td>\n",
       "      <td>['cancer', 'health policy', 'methodological re...</td>\n",
       "    </tr>\n",
       "    <tr>\n",
       "      <th>1</th>\n",
       "      <td>37887562</td>\n",
       "      <td>Systematic Review of Nomograms Used for Predic...</td>\n",
       "      <td>10.3390/curroncol30100662</td>\n",
       "      <td>Antonini, Marcelo</td>\n",
       "      <td>2023-10-16</td>\n",
       "      <td>['breast neoplasms', 'cancer', 'neoadjuvant th...</td>\n",
       "    </tr>\n",
       "    <tr>\n",
       "      <th>2</th>\n",
       "      <td>37658271</td>\n",
       "      <td>Insufficient Reporting of Race and Ethnicity i...</td>\n",
       "      <td>10.1245/s10434-023-14201-z</td>\n",
       "      <td>Keegan, Grace</td>\n",
       "      <td>2023-09-01</td>\n",
       "      <td>NaN</td>\n",
       "    </tr>\n",
       "    <tr>\n",
       "      <th>3</th>\n",
       "      <td>37637069</td>\n",
       "      <td>Global research status and hotspots of radioth...</td>\n",
       "      <td>1135052</td>\n",
       "      <td>Xie, Xiaodu</td>\n",
       "      <td>2023-08-11</td>\n",
       "      <td>['CiteSpace', 'VOSviewer', 'bibliometric', 'ho...</td>\n",
       "    </tr>\n",
       "    <tr>\n",
       "      <th>4</th>\n",
       "      <td>37574575</td>\n",
       "      <td>Advance care planning, serious illness communi...</td>\n",
       "      <td>10.21037/apm-22-1261</td>\n",
       "      <td>Rao, Vinay</td>\n",
       "      <td>2023-07-27</td>\n",
       "      <td>['Gastrointestinal cancer', 'advance care plan...</td>\n",
       "    </tr>\n",
       "  </tbody>\n",
       "</table>\n",
       "</div>"
      ],
      "text/plain": [
       "       pmid                                              title  \\\n",
       "0  37892700  Suicide among Cancer Patients: Current Knowled...   \n",
       "1  37887562  Systematic Review of Nomograms Used for Predic...   \n",
       "2  37658271  Insufficient Reporting of Race and Ethnicity i...   \n",
       "3  37637069  Global research status and hotspots of radioth...   \n",
       "4  37574575  Advance care planning, serious illness communi...   \n",
       "\n",
       "                          doi        main_author        date  \\\n",
       "0                        6563       Grobman, Ben  2023-10-16   \n",
       "1   10.3390/curroncol30100662  Antonini, Marcelo  2023-10-16   \n",
       "2  10.1245/s10434-023-14201-z      Keegan, Grace  2023-09-01   \n",
       "3                     1135052        Xie, Xiaodu  2023-08-11   \n",
       "4        10.21037/apm-22-1261         Rao, Vinay  2023-07-27   \n",
       "\n",
       "                                            keywords  \n",
       "0  ['cancer', 'health policy', 'methodological re...  \n",
       "1  ['breast neoplasms', 'cancer', 'neoadjuvant th...  \n",
       "2                                                NaN  \n",
       "3  ['CiteSpace', 'VOSviewer', 'bibliometric', 'ho...  \n",
       "4  ['Gastrointestinal cancer', 'advance care plan...  "
      ]
     },
     "execution_count": 85,
     "metadata": {},
     "output_type": "execute_result"
    }
   ],
   "source": [
    "df.head()"
   ]
  },
  {
   "cell_type": "markdown",
   "metadata": {},
   "source": [
    "## Retrieve the citation graph\n",
    "\n",
    "Get the references cited in a paper, and add an arc when one of this reference heads to an other pmid.\n"
   ]
  },
  {
   "cell_type": "code",
   "execution_count": 88,
   "metadata": {},
   "outputs": [
    {
     "data": {
      "text/plain": [
       "{'PubmedBookArticle': [], 'PubmedArticle': [{'MedlineCitation': DictElement({'OtherAbstract': [], 'CitationSubset': [], 'SpaceFlightMission': [], 'GeneralNote': [], 'OtherID': [], 'KeywordList': [ListElement([StringElement('cancer', attributes={'MajorTopicYN': 'N'}), StringElement('health policy', attributes={'MajorTopicYN': 'N'}), StringElement('methodological review', attributes={'MajorTopicYN': 'N'}), StringElement('observational studies', attributes={'MajorTopicYN': 'N'}), StringElement('suicide', attributes={'MajorTopicYN': 'N'})], attributes={'Owner': 'NOTNLM'})], 'PMID': StringElement('37892700', attributes={'Version': '1'}), 'DateRevised': {'Year': '2023', 'Month': '10', 'Day': '30'}, 'Article': DictElement({'Language': ['eng'], 'ELocationID': [StringElement('6563', attributes={'EIdType': 'pii', 'ValidYN': 'Y'}), StringElement('10.3390/jcm12206563', attributes={'EIdType': 'doi', 'ValidYN': 'Y'})], 'ArticleDate': [DictElement({'Year': '2023', 'Month': '10', 'Day': '16'}, attributes={'DateType': 'Electronic'})], 'Journal': {'ISSN': StringElement('2077-0383', attributes={'IssnType': 'Print'}), 'JournalIssue': DictElement({'Volume': '12', 'Issue': '20', 'PubDate': {'Year': '2023', 'Month': 'Oct', 'Day': '16'}}, attributes={'CitedMedium': 'Print'}), 'Title': 'Journal of clinical medicine', 'ISOAbbreviation': 'J Clin Med'}, 'ArticleTitle': 'Suicide among Cancer Patients: Current Knowledge and Directions for Observational Research.', 'Abstract': {'AbstractText': [\"Cancer is a major public health concern associated with an increased risk of psychosocial distress and suicide. The reasons for this increased risk are still being characterized. The purpose of this study is to highlight existing observational studies on cancer-related suicides in the United States and identify gaps for future research. This work helps inform clinical and policy decision-making on suicide prevention interventions and ongoing research on the detection and quantification of suicide risk among cancer patients. We identified 73 peer-reviewed studies (2010-2022) that examined the intersection of cancer and suicide using searches of PubMed and Embase. Overall, the reviewed studies showed that cancer patients have an elevated risk of suicide when compared to the general population. In general, the risk was higher among White, male, and older cancer patients, as well as among patients living in rural areas and with lower socioeconomic status. Future studies should further investigate the psychosocial aspects of receiving a diagnosis of cancer on patients' mental health as well as the impact of new treatments and their availability on suicide risk and disparities among cancer patients to better inform policies.\"]}, 'AuthorList': ListElement([DictElement({'AffiliationInfo': [{'Identifier': [], 'Affiliation': 'Harvard Medical School, Boston, MA 02115, USA.'}], 'Identifier': [StringElement('0000-0002-4416-6243', attributes={'Source': 'ORCID'})], 'LastName': 'Grobman', 'ForeName': 'Ben', 'Initials': 'B'}, attributes={'ValidYN': 'Y'}), DictElement({'AffiliationInfo': [{'Identifier': [], 'Affiliation': 'Harvard Medical School, Boston, MA 02115, USA.'}], 'Identifier': [StringElement('0000-0003-2406-5127', attributes={'Source': 'ORCID'})], 'LastName': 'Mansur', 'ForeName': 'Arian', 'Initials': 'A'}, attributes={'ValidYN': 'Y'}), DictElement({'AffiliationInfo': [{'Identifier': [], 'Affiliation': 'College of Medicine, University of Ibadan, Ibadan 200285, Nigeria.'}], 'Identifier': [], 'LastName': 'Babalola', 'ForeName': 'Dolapo', 'Initials': 'D'}, attributes={'ValidYN': 'Y'}), DictElement({'AffiliationInfo': [{'Identifier': [], 'Affiliation': 'Harvard College, Cambridge, MA 02138, USA.'}], 'Identifier': [], 'LastName': 'Srinivasan', 'ForeName': 'Anirudh P', 'Initials': 'AP'}, attributes={'ValidYN': 'Y'}), DictElement({'AffiliationInfo': [{'Identifier': [], 'Affiliation': 'Harvard College, Cambridge, MA 02138, USA.'}], 'Identifier': [], 'LastName': 'Antonio', 'ForeName': 'Jose Marco', 'Initials': 'JM'}, attributes={'ValidYN': 'Y'}), DictElement({'AffiliationInfo': [{'Identifier': [], 'Affiliation': 'Harvard Pilgrim Health Care Institute, Harvard Medical School, Boston, MA 02215, USA.'}, {'Identifier': [], 'Affiliation': 'Faculty of Medicine and Health, School of Pharmacy, The University of Sydney, Sydney, NSW 2050, Australia.'}, {'Identifier': [], 'Affiliation': 'Kolling Institute, Faculty of Medicine and Health, The University of Sydney, The Northern Sydney Local Health District, Sydney, NSW 2064, Australia.'}], 'Identifier': [], 'LastName': 'Lu', 'ForeName': 'Christine Y', 'Initials': 'CY'}, attributes={'ValidYN': 'Y'})], attributes={'CompleteYN': 'Y'}), 'PublicationTypeList': [StringElement('Journal Article', attributes={'UI': 'D016428'}), StringElement('Review', attributes={'UI': 'D016454'})]}, attributes={'PubModel': 'Electronic'}), 'MedlineJournalInfo': {'Country': 'Switzerland', 'MedlineTA': 'J Clin Med', 'NlmUniqueID': '101606588', 'ISSNLinking': '2077-0383'}, 'CoiStatement': 'The authors declare no conflicts of interest.'}, attributes={'Status': 'PubMed-not-MEDLINE', 'Owner': 'NLM', 'IndexingMethod': 'Automated'}), 'PubmedData': {'ReferenceList': [{'ReferenceList': [], 'Reference': [{'Citation': 'Siegel R.L., Miller K.D., Wagle N.S., Jemal A. Cancer Statistics, 2023. CA Cancer J Clin. 2023;73:17–48. doi: 10.3322/caac.21763.', 'ArticleIdList': [StringElement('10.3322/caac.21763', attributes={'IdType': 'doi'}), StringElement('36633525', attributes={'IdType': 'pubmed'})]}, {'Citation': 'Ahmad F.B., Cisewski J.A., Xu J., Anderson R.N. Provisional Mortality Data—United States, 2022. MMWR Morb. Mortal. Wkly. Rep. 2023;72:488–492. doi: 10.15585/mmwr.mm7218a3.', 'ArticleIdList': [StringElement('10.15585/mmwr.mm7218a3', attributes={'IdType': 'doi'}), StringElement('PMC10168603', attributes={'IdType': 'pmc'}), StringElement('37141156', attributes={'IdType': 'pubmed'})]}, {'Citation': 'Debela D.T., Muzazu S.G., Heraro K.D., Ndalama M.T., Mesele B.W., Haile D.C., Kitui S.K., Manyazewal T. New Approaches and Procedures for Cancer Treatment: Current Perspectives. SAGE Open Med. 2021;9:20503121211034366. doi: 10.1177/20503121211034366.', 'ArticleIdList': [StringElement('10.1177/20503121211034366', attributes={'IdType': 'doi'}), StringElement('PMC8366192', attributes={'IdType': 'pmc'}), StringElement('34408877', attributes={'IdType': 'pubmed'})]}, {'Citation': 'Zaorsky N.G., Zhang Y., Tuanquin L., Bluethmann S.M., Park H.S., Chinchilli V.M. Suicide among Cancer Patients. Nat. Commun. 2019;10:207. doi: 10.1038/s41467-018-08170-1.', 'ArticleIdList': [StringElement('10.1038/s41467-018-08170-1', attributes={'IdType': 'doi'}), StringElement('PMC6331593', attributes={'IdType': 'pmc'}), StringElement('30643135', attributes={'IdType': 'pubmed'})]}, {'Citation': 'Wang Y.-H., Li J.-Q., Shi J.-F., Que J.-Y., Liu J.-J., Lappin J.M., Leung J., Ravindran A.V., Chen W.-Q., Qiao Y.-L., et al. Depression and Anxiety in Relation to Cancer Incidence and Mortality: A Systematic Review and Meta-Analysis of Cohort Studies. Mol. Psychiatry. 2020;25:1487–1499. doi: 10.1038/s41380-019-0595-x.', 'ArticleIdList': [StringElement('10.1038/s41380-019-0595-x', attributes={'IdType': 'doi'}), StringElement('31745237', attributes={'IdType': 'pubmed'})]}, {'Citation': 'Choi J.W., Park E.-C., Kim T.H., Han E. Mental Disorders and Suicide Risk among Cancer Patients: A Nationwide Cohort Study. Arch. Suicide Res. 2022;26:44–55. doi: 10.1080/13811118.2020.1779156.', 'ArticleIdList': [StringElement('10.1080/13811118.2020.1779156', attributes={'IdType': 'doi'}), StringElement('32538322', attributes={'IdType': 'pubmed'})]}, {'Citation': 'Hu X., Ma J., Jemal A., Zhao J., Nogueira L., Ji X., Yabroff K.R., Han X. Suicide Risk among Individuals Diagnosed with Cancer in the US, 2000–2016. JAMA Netw. Open. 2023;6:e2251863. doi: 10.1001/jamanetworkopen.2022.51863.', 'ArticleIdList': [StringElement('10.1001/jamanetworkopen.2022.51863', attributes={'IdType': 'doi'}), StringElement('PMC9860529', attributes={'IdType': 'pmc'}), StringElement('36662522', attributes={'IdType': 'pubmed'})]}, {'Citation': 'Suk R., Hong Y.-R., Wasserman R.M., Swint J.M., Azenui N.B., Sonawane K.B., Tsai A.C., Deshmukh A.A. Analysis of Suicide after Cancer Diagnosis by US County-Level Income and Rural vs Urban Designation, 2000–2016. JAMA Netw. Open. 2021;4:e2129913. doi: 10.1001/jamanetworkopen.2021.29913.', 'ArticleIdList': [StringElement('10.1001/jamanetworkopen.2021.29913', attributes={'IdType': 'doi'}), StringElement('PMC8527360', attributes={'IdType': 'pmc'}), StringElement('34665238', attributes={'IdType': 'pubmed'})]}, {'Citation': 'Ma Y., Lyu J., Yang B., Yan T., Ma Q., Wu Z., Wang Z., He H. Incidence and Risk Factors of Suicide among Patients with Pancreatic Cancer: A Population-Based Analysis from 2000 to 2018. Front. Oncol. 2022;12:972908. doi: 10.3389/fonc.2022.972908.', 'ArticleIdList': [StringElement('10.3389/fonc.2022.972908', attributes={'IdType': 'doi'}), StringElement('PMC9437642', attributes={'IdType': 'pmc'}), StringElement('36059612', attributes={'IdType': 'pubmed'})]}, {'Citation': 'Chen C., Lin H., Xu F., Liu J., Cai Q., Yang F., Lv L., Jiang Y. Risk Factors Associated with Suicide among Esophageal Carcinoma Patients from 1975 to 2016. Sci. Rep. 2021;11:18766. doi: 10.1038/s41598-021-98260-w.', 'ArticleIdList': [StringElement('10.1038/s41598-021-98260-w', attributes={'IdType': 'doi'}), StringElement('PMC8455550', attributes={'IdType': 'pmc'}), StringElement('34548616', attributes={'IdType': 'pubmed'})]}, {'Citation': 'Walsh N.J., Talukder A.M., Lawson A.G., Komic A.X., Bateson B.P., Jones A.J., Kruse E.J. Thyroid Malignancy and Suicide Risk: An Analysis of Epidemiologic and Clinical Factors. World J. Endocr. Surg. 2018;10:99–102. doi: 10.5005/jp-journals-10002-1227.', 'ArticleIdList': [StringElement('10.5005/jp-journals-10002-1227', attributes={'IdType': 'doi'})]}, {'Citation': 'Weiner A.B., Li E.V., Desai A.S., Press D.J., Schaeffer E.M. Cause of Death during Prostate Cancer Survivorship: A Contemporary, US Population-Based Analysis. Cancer. 2021;127:2895–2904. doi: 10.1002/cncr.33584.', 'ArticleIdList': [StringElement('10.1002/cncr.33584', attributes={'IdType': 'doi'}), StringElement('33882145', attributes={'IdType': 'pubmed'})]}, {'Citation': 'Klaassen Z., DiBianco J.M., Jen R.P., Harper B., Yaguchi G., Reinstatler L., Woodard C., Moses K.A., Terris M.K., Madi R. The Impact of Radical Cystectomy and Urinary Diversion on Suicidal Death in Patients with Bladder Cancer. J. Wound Ostomy Cont. Nurs. 2016;43:152–157. doi: 10.1097/WON.0000000000000188.', 'ArticleIdList': [StringElement('10.1097/WON.0000000000000188', attributes={'IdType': 'doi'}), StringElement('PMC10176036', attributes={'IdType': 'pmc'}), StringElement('26680629', attributes={'IdType': 'pubmed'})]}, {'Citation': 'Klaassen Z., Goldberg H., Chandrasekar T., Arora K., Sayyid R.K., Hamilton R.J., Fleshner N.E., Williams S.B., Wallis C.J.D., Kulkarni G.S. Changing Trends for Suicidal Death in Patients with Bladder Cancer: A 40+ Year Population-Level Analysis. Clin. Genitourin. Cancer. 2018;16:206–212.e1. doi: 10.1016/j.clgc.2017.12.016.', 'ArticleIdList': [StringElement('10.1016/j.clgc.2017.12.016', attributes={'IdType': 'doi'}), StringElement('29395948', attributes={'IdType': 'pubmed'})]}, {'Citation': 'Yu D.-D., Chen W.-K., Wu C.-Y., Wu W.-T., Xin X., Jiang Y.-L., Li P., Zhang M.-H. Cause of Death during Renal Cell Carcinoma Survivorship: A Contemporary, Population-Based Analysis. Front. Oncol. 2022;12:864132. doi: 10.3389/fonc.2022.864132.', 'ArticleIdList': [StringElement('10.3389/fonc.2022.864132', attributes={'IdType': 'doi'}), StringElement('PMC9201523', attributes={'IdType': 'pmc'}), StringElement('35719910', attributes={'IdType': 'pubmed'})]}, {'Citation': 'Klaassen Z., Jen R.P., DiBianco J.M., Dominica R., Reinstatler L., Li Q., Madi R., Lewis R.W., Smith A.M., Neal D.E., Jr., et al. Factors Associated with Suicide in Patients with Genitourinary Malignancies. J. Urol. 2015;193:e105–e106.', 'ArticleIdList': [StringElement('25690909', attributes={'IdType': 'pubmed'})]}, {'Citation': 'Osazuwa-Peters N., Simpson M.C., Zhao L., Boakye E.A., Olomukoro S.I., Varvares M.A. Suicide Risk among Cancer Survivors: Head and Neck versus Other Cancers. J. Clin. Oncol. 2018;124:4072–4079.', 'ArticleIdList': [StringElement('30335190', attributes={'IdType': 'pubmed'})]}, {'Citation': 'Kam D., Salib A., Gorgy G., Patel T.D., Carniol E.T., Eloy J.A., Baredes S., Park R.C. Incidence of Suicide in Patients with Head and Neck Cancer. JAMA Otolaryngol. Head Neck Surg. 2015;141:1075–1081. doi: 10.1001/jamaoto.2015.2480.', 'ArticleIdList': [StringElement('10.1001/jamaoto.2015.2480', attributes={'IdType': 'doi'}), StringElement('26562764', attributes={'IdType': 'pubmed'})]}, {'Citation': 'Massa S.T., Osazuwa-Peters N., Christopher K.M., Arnold L.D., Schootman M., Walker R.J., Varvares M.A. Competing Causes of Death in the Head and Neck Cancer Population. Oral. Oncol. 2017;65:8–15. doi: 10.1016/j.oraloncology.2016.12.006.', 'ArticleIdList': [StringElement('10.1016/j.oraloncology.2016.12.006', attributes={'IdType': 'doi'}), StringElement('28109473', attributes={'IdType': 'pubmed'})]}, {'Citation': 'Osazuwa-Peters N., Simpson M.C., Bukatko A.R., Boakye E.A. The Association of Marital Status with Suicide among Male Cancer Patients in the United States. J. Clin. Oncol. 2018;36:181. doi: 10.1200/JCO.2018.36.34_suppl.181.', 'ArticleIdList': [StringElement('10.1200/JCO.2018.36.34_suppl.181', attributes={'IdType': 'doi'})]}, {'Citation': 'Bowden M.B., Walsh N.J., Jones A.J., Talukder A.M., Lawson A.G., Kruse E.J. Demographic and Clinical Factors Associated with Suicide in Gastric Cancer in the United States. J. Gastrointest. Oncol. 2017;8:897–901. doi: 10.21037/jgo.2017.08.02.', 'ArticleIdList': [StringElement('10.21037/jgo.2017.08.02', attributes={'IdType': 'doi'}), StringElement('PMC5674247', attributes={'IdType': 'pmc'}), StringElement('29184695', attributes={'IdType': 'pubmed'})]}, {'Citation': 'Sugawara A., Kunieda E. Suicide in Patients with Gastric Cancer: A Population-Based Study. Jpn. J. Clin. Oncol. 2016;46:850–855. doi: 10.1093/jjco/hyw075.', 'ArticleIdList': [StringElement('10.1093/jjco/hyw075', attributes={'IdType': 'doi'}), StringElement('27307574', attributes={'IdType': 'pubmed'})]}, {'Citation': 'Elshanbary A.A., Zaazouee M.S., Hasan S.M., Abdel-Aziz W. Risk Factors for Suicide Mortality and Cancer-Specific Mortality among Patients with Gastric Adenocarcinoma: A SEER Based Study. Psychooncology. 2021;30:2067–2076. doi: 10.1002/pon.5804.', 'ArticleIdList': [StringElement('10.1002/pon.5804', attributes={'IdType': 'doi'}), StringElement('34453467', attributes={'IdType': 'pubmed'})]}, {'Citation': 'Zhou H., Xian W., Zhang Y., Chen G., Zhao S., Chen X., Zhang Z., Shen J., Hong S., Huang Y., et al. Trends in Incidence and Associated Risk Factors of Suicide Mortality in Patients with Non-Small Cell Lung Cancer. Cancer Med. 2018;7:4146–4155. doi: 10.1002/cam4.1656.', 'ArticleIdList': [StringElement('10.1002/cam4.1656', attributes={'IdType': 'doi'}), StringElement('PMC6089196', attributes={'IdType': 'pmc'}), StringElement('29971970', attributes={'IdType': 'pubmed'})]}, {'Citation': 'Urban D., Rao A., Bressel M., Neiger D., Solomon B., Mileshkin L. Suicide in Lung Cancer: Who Is at Risk? Chest. 2013;144:1245–1252. doi: 10.1378/chest.12-2986.', 'ArticleIdList': [StringElement('10.1378/chest.12-2986', attributes={'IdType': 'doi'}), StringElement('23681288', attributes={'IdType': 'pubmed'})]}, {'Citation': 'Gaitanidis A., Alevizakos M., Pitiakoudis M., Wiggins D. Trends in Incidence and Associated Risk Factors of Suicide Mortality among Breast Cancer Patients. Psychooncology. 2018;27:1450–1456. doi: 10.1002/pon.4570.', 'ArticleIdList': [StringElement('10.1002/pon.4570', attributes={'IdType': 'doi'}), StringElement('29055289', attributes={'IdType': 'pubmed'})]}, {'Citation': 'Ward K.K., Roncancio A.M., Plaxe S.C. Women with Gynecologic Malignancies Have a Greater Incidence of Suicide than Women with Other Cancer Types. Suicide Life Threat. Behav. 2013;43:109–115. doi: 10.1111/sltb.12002.', 'ArticleIdList': [StringElement('10.1111/sltb.12002', attributes={'IdType': 'doi'}), StringElement('PMC3955113', attributes={'IdType': 'pmc'}), StringElement('23278597', attributes={'IdType': 'pubmed'})]}, {'Citation': 'Mahdi H., Swensen R.E., Munkarah A.R., Chiang S., Luhrs K., Lockhart D., Kumar S. Suicide in Women with Gynecologic Cancer. Gynecol. Oncol. 2011;122:344–349. doi: 10.1016/j.ygyno.2011.04.015.', 'ArticleIdList': [StringElement('10.1016/j.ygyno.2011.04.015', attributes={'IdType': 'doi'}), StringElement('21561646', attributes={'IdType': 'pubmed'})]}, {'Citation': 'Han X., Hu X., Zhao J., Ma J., Jemal A., Yabroff K.R. Trends of Cancer-Related Suicide in the United States: 1999–2018. JNCI J. Natl. Cancer Inst. 2021;113:1258–1262. doi: 10.1093/jnci/djaa183.', 'ArticleIdList': [StringElement('10.1093/jnci/djaa183', attributes={'IdType': 'doi'}), StringElement('33464295', attributes={'IdType': 'pubmed'})]}, {'Citation': 'Yu G.P., Mehta V., Branovan D., Huang Q., Schantz S.P. Non-Cancer-Related Deaths from Suicide, Cardiovascular Disease, and Pneumonia in Patients with Oral Cavity and Oropharyngeal Squamous Carcinoma. Arch. Otolaryngol. Head Neck Surg. 2012;138:25–32. doi: 10.1001/archoto.2011.236.', 'ArticleIdList': [StringElement('10.1001/archoto.2011.236', attributes={'IdType': 'doi'}), StringElement('22249625', attributes={'IdType': 'pubmed'})]}, {'Citation': 'Rahouma M., Kamel M., Nasar A., Harrison S., Lee B., Stiles B., Altorki N., Port J.L. Lung Cancer Patients Have the Highest Malignancy-Associated Suicide Rate in USA: A Population Based Analysis. Am. J. Respir. Crit. Care Med. 2017;12:859. doi: 10.3332/ecancer.2018.859.', 'ArticleIdList': [StringElement('10.3332/ecancer.2018.859', attributes={'IdType': 'doi'}), StringElement('PMC6113987', attributes={'IdType': 'pmc'}), StringElement('30174721', attributes={'IdType': 'pubmed'})]}, {'Citation': 'Yang J., Liu Q., Zhao F., Feng X., Kaaya R.E., Lyu J. Incidence of and Sociological Risk Factors for Suicide Death in Patients with Leukemia: A Population-Based Study. J. Int. Med. Res. 2020;48:0300060520922463. doi: 10.1177/0300060520922463.', 'ArticleIdList': [StringElement('10.1177/0300060520922463', attributes={'IdType': 'doi'}), StringElement('PMC7221221', attributes={'IdType': 'pmc'}), StringElement('32383398', attributes={'IdType': 'pubmed'})]}, {'Citation': 'Zhou Z., Jiang P., Zhang P., Lin X., Zhao Q., Wen X., Lin X., Wang Y., Yang Y., Jiang X., et al. Incidence, Trend and Risk Factors Associated with Suicide among Patients with Malignant Intracranial Tumors: A Surveillance, Epidemiology, and End Results Analysis. Int. J. Clin. Oncol. 2022;27:1386–1393. doi: 10.1007/s10147-022-02206-9.', 'ArticleIdList': [StringElement('10.1007/s10147-022-02206-9', attributes={'IdType': 'doi'}), StringElement('35781641', attributes={'IdType': 'pubmed'})]}, {'Citation': 'Kendal W.S., Kendal W.M. Comparative Risk Factors for Accidental and Suicidal Death in Cancer Patients. Crisis. 2012;33:325–334. doi: 10.1027/0227-5910/a000149.', 'ArticleIdList': [StringElement('10.1027/0227-5910/a000149', attributes={'IdType': 'doi'}), StringElement('22759661', attributes={'IdType': 'pubmed'})]}, {'Citation': 'Yu H., Cai K., Huang Y., Lyu J. Risk Factors Associated with Suicide among Leukemia Patients: A Surveillance, Epidemiology, and End Results Analysis. Cancer Med. 2020;9:9006–9017. doi: 10.1002/cam4.3502.', 'ArticleIdList': [StringElement('10.1002/cam4.3502', attributes={'IdType': 'doi'}), StringElement('PMC7724501', attributes={'IdType': 'pmc'}), StringElement('33022890', attributes={'IdType': 'pubmed'})]}, {'Citation': 'Ma W., Wu W., Fu R., Zheng S., Bai R., Lyu J. Coincident Patterns of Suicide Risk among Adult Patients with a Primary Solid Tumor: A Large-Scale Population Study. Int. J. Gen. Med. 2021;14:1107–1119. doi: 10.2147/IJGM.S300740.', 'ArticleIdList': [StringElement('10.2147/IJGM.S300740', attributes={'IdType': 'doi'}), StringElement('PMC8006911', attributes={'IdType': 'pmc'}), StringElement('33790640', attributes={'IdType': 'pubmed'})]}, {'Citation': 'Chen C., Jiang Y., Yang F., Cai Q., Liu J., Wu Y., Lin H. Risk Factors Associated with Suicide among Hepatocellular Carcinoma Patients: A Surveillance, Epidemiology, and End Results Analysis. Eur. J. Surg. Oncol. 2021;47:640–648. doi: 10.1016/j.ejso.2020.10.001.', 'ArticleIdList': [StringElement('10.1016/j.ejso.2020.10.001', attributes={'IdType': 'doi'}), StringElement('PMC7538389', attributes={'IdType': 'pmc'}), StringElement('33051117', attributes={'IdType': 'pubmed'})]}, {'Citation': 'Du L., Shi H.-Y., Qian Y., Jin X.-H., Yu H.-R., Fu X.-L., Song Y.-P., Chen H.-L., Shi Y.-Q. Insurance Status and Risk of Suicide Mortality among Patients with Cancer: A Retrospective Study Based on the SEER Database. Public Health. 2021;194:89–95. doi: 10.1016/j.puhe.2021.02.030.', 'ArticleIdList': [StringElement('10.1016/j.puhe.2021.02.030', attributes={'IdType': 'doi'}), StringElement('33866150', attributes={'IdType': 'pubmed'})]}, {'Citation': 'Su C., Wang Y., Wu F., Qiu Y., Tao J. Suicide and Cardiovascular Death among Patients with Multiple Primary Cancers in the United States. Front. Cardiovasc. Med. 2022;9:857194. doi: 10.3389/fcvm.2022.857194.', 'ArticleIdList': [StringElement('10.3389/fcvm.2022.857194', attributes={'IdType': 'doi'}), StringElement('PMC9208264', attributes={'IdType': 'pmc'}), StringElement('35734280', attributes={'IdType': 'pubmed'})]}, {'Citation': 'Abdel-Rahman O. Socioeconomic Predictors of Suicide Risk among Cancer Patients in the United States: A Population-Based Study. Cancer Epidemiol. 2019;63:101601. doi: 10.1016/j.canep.2019.101601.', 'ArticleIdList': [StringElement('10.1016/j.canep.2019.101601', attributes={'IdType': 'doi'}), StringElement('31536912', attributes={'IdType': 'pubmed'})]}, {'Citation': 'Canetto S.S., Sakinofsky I. The Gender Paradox in Suicide. Suicide Life Threat. Behav. 1998;28:1–23. doi: 10.1111/j.1943-278X.1998.tb00622.x.', 'ArticleIdList': [StringElement('10.1111/j.1943-278X.1998.tb00622.x', attributes={'IdType': 'doi'}), StringElement('9560163', attributes={'IdType': 'pubmed'})]}, {'Citation': 'Mościcki E.K. Gender Differences in Completed and Attempted Suicides. Ann. Epidemiol. 1994;4:152–158. doi: 10.1016/1047-2797(94)90062-0.', 'ArticleIdList': [StringElement('10.1016/1047-2797(94)90062-0', attributes={'IdType': 'doi'}), StringElement('8205283', attributes={'IdType': 'pubmed'})]}, {'Citation': 'Schober D.J., Benjamins M.R., Saiyed N.S., Silva A., Shrestha S. Suicide Rates and Differences in Rates Between Non-Hispanic Black and Non-Hispanic White Populations in the 30 Largest US Cities, 2008–2017. Public Health Rep. 2022;137:921–928. doi: 10.1177/00333549211041548.', 'ArticleIdList': [StringElement('10.1177/00333549211041548', attributes={'IdType': 'doi'}), StringElement('PMC9379849', attributes={'IdType': 'pmc'}), StringElement('34478341', attributes={'IdType': 'pubmed'})]}, {'Citation': 'Neeleman J., Wessely S., Lewis G. Suicide Acceptability in African- and White Americans: The Role of Religion. J. Nerv. Ment. Dis. 1998;186:12–16. doi: 10.1097/00005053-199801000-00003.', 'ArticleIdList': [StringElement('10.1097/00005053-199801000-00003', attributes={'IdType': 'doi'}), StringElement('9457142', attributes={'IdType': 'pubmed'})]}, {'Citation': 'Rockett I.R.H., Samora J.B., Coben J.H. The Black–White Suicide Paradox: Possible Effects of Misclassification. Soc. Sci. Med. 2006;63:2165–2175. doi: 10.1016/j.socscimed.2006.05.017.', 'ArticleIdList': [StringElement('10.1016/j.socscimed.2006.05.017', attributes={'IdType': 'doi'}), StringElement('16844274', attributes={'IdType': 'pubmed'})]}, {'Citation': 'Rockett I.R., Wang S., Stack S., De Leo D., Frost J.L., Ducatman A.M., Walker R.L., Kapusta N.D. Race/Ethnicity and Potential Suicide Misclassification: Window on a Minority Suicide Paradox? BMC Psychiatry. 2010;10:35. doi: 10.1186/1471-244X-10-35.', 'ArticleIdList': [StringElement('10.1186/1471-244X-10-35', attributes={'IdType': 'doi'}), StringElement('PMC2891687', attributes={'IdType': 'pmc'}), StringElement('20482844', attributes={'IdType': 'pubmed'})]}, {'Citation': 'Ramchand R., Gordon J.A., Pearson J.L. Trends in Suicide Rates by Race and Ethnicity in the United States. JAMA Netw. Open. 2021;4:e2111563. doi: 10.1001/jamanetworkopen.2021.11563.', 'ArticleIdList': [StringElement('10.1001/jamanetworkopen.2021.11563', attributes={'IdType': 'doi'}), StringElement('PMC8155821', attributes={'IdType': 'pmc'}), StringElement('34037735', attributes={'IdType': 'pubmed'})]}, {'Citation': 'Messias E., Salas J., Wilson L., Scherrer J.F. Temporal Location of Changes in the US Suicide Rate by Age, Ethnicity, and Race: A Joinpoint Analysis 1999–2020. J. Nerv. Ment. Dis. 2023;211:530–536. doi: 10.1097/NMD.0000000000001653.', 'ArticleIdList': [StringElement('10.1097/NMD.0000000000001653', attributes={'IdType': 'doi'}), StringElement('PMC10309088', attributes={'IdType': 'pmc'}), StringElement('37040181', attributes={'IdType': 'pubmed'})]}, {'Citation': 'De Leo D. Late-Life Suicide in an Aging World. Nat. Aging. 2022;2:7–12. doi: 10.1038/s43587-021-00160-1.', 'ArticleIdList': [StringElement('10.1038/s43587-021-00160-1', attributes={'IdType': 'doi'}), StringElement('37118360', attributes={'IdType': 'pubmed'})]}, {'Citation': 'Zhou H., Xian W., Zhang Y., Yang Y., Fang W., Liu J., Shen J., Zhang Z., Hong S., Huang Y., et al. Suicide among Cancer Patients: Adolescents and Young Adult (AYA) versus All-Age Patients. Ann. Transl. Med. 2019;7:658. doi: 10.21037/atm.2019.10.51.', 'ArticleIdList': [StringElement('10.21037/atm.2019.10.51', attributes={'IdType': 'doi'}), StringElement('PMC6944571', attributes={'IdType': 'pmc'}), StringElement('31930059', attributes={'IdType': 'pubmed'})]}, {'Citation': 'Næss E.O., Mehlum L., Qin P. Marital Status and Suicide Risk: Temporal Effect of Marital Breakdown and Contextual Difference by Socioeconomic Status. SSM—Popul. Health. 2021;15:100853. doi: 10.1016/j.ssmph.2021.100853.', 'ArticleIdList': [StringElement('10.1016/j.ssmph.2021.100853', attributes={'IdType': 'doi'}), StringElement('PMC8242039', attributes={'IdType': 'pmc'}), StringElement('34222610', attributes={'IdType': 'pubmed'})]}, {'Citation': 'Denney J.T., Rogers R.G., Krueger P.M., Wadsworth T. Adult Suicide Mortality in the United States: Marital Status, Family Size, Socioeconomic Status, and Differences by Sex. Soc. Social. Sci. Q. 2009;90:1167–1185. doi: 10.1111/j.1540-6237.2009.00652.x.', 'ArticleIdList': [StringElement('10.1111/j.1540-6237.2009.00652.x', attributes={'IdType': 'doi'}), StringElement('PMC2818047', attributes={'IdType': 'pmc'}), StringElement('20161640', attributes={'IdType': 'pubmed'})]}, {'Citation': 'Kposowa A.J. Marital Status and Suicide in the National Longitudinal Mortality Study. J. Epidemiol. Community Health. 2000;54:254–261. doi: 10.1136/jech.54.4.254.', 'ArticleIdList': [StringElement('10.1136/jech.54.4.254', attributes={'IdType': 'doi'}), StringElement('PMC1731658', attributes={'IdType': 'pmc'}), StringElement('10827907', attributes={'IdType': 'pubmed'})]}, {'Citation': 'Øien-Ødegaard C., Hauge L.J., Reneflot A. Marital Status, Educational Attainment, and Suicide Risk: A Norwegian Register-Based Population Study. Popul. Health Metr. 2021;19:33. doi: 10.1186/s12963-021-00263-2.', 'ArticleIdList': [StringElement('10.1186/s12963-021-00263-2', attributes={'IdType': 'doi'}), StringElement('PMC8273935', attributes={'IdType': 'pmc'}), StringElement('34247635', attributes={'IdType': 'pubmed'})]}, {'Citation': 'Barry R., Rehm J., de Oliveira C., Gozdyra P., Kurdyak P. Rurality and Risk of Suicide Attempts and Death by Suicide among People Living in Four English-Speaking High-Income Countries: A Systematic Review and Meta-Analysis. Can. J. Psychiatry. 2020;65:441–447. doi: 10.1177/0706743720902655.', 'ArticleIdList': [StringElement('10.1177/0706743720902655', attributes={'IdType': 'doi'}), StringElement('PMC7298579', attributes={'IdType': 'pmc'}), StringElement('31994903', attributes={'IdType': 'pubmed'})]}, {'Citation': 'Searles V.B., Valley M.A., Hedegaard H., Betz M.E. Suicides in Urban and Rural Counties in the United States, 2006–2008. Crisis. 2014;35:18–26. doi: 10.1027/0227-5910/a000224.', 'ArticleIdList': [StringElement('10.1027/0227-5910/a000224', attributes={'IdType': 'doi'}), StringElement('24067250', attributes={'IdType': 'pubmed'})]}, {'Citation': 'Lee S.-U., Oh I.-H., Jeon H.J., Roh S. Suicide Rates across Income Levels: Retrospective Cohort Data on 1 Million Participants Collected between 2003 and 2013 in South Korea. J. Epidemiol. 2017;27:258–264. doi: 10.1016/j.je.2016.06.008.', 'ArticleIdList': [StringElement('10.1016/j.je.2016.06.008', attributes={'IdType': 'doi'}), StringElement('PMC5463019', attributes={'IdType': 'pmc'}), StringElement('28314637', attributes={'IdType': 'pubmed'})]}, {'Citation': 'Liu S., Morin S.B., Bourand N.M., DeClue I.L., Delgado G.E., Fan J., Foster S.K., Imam M.S., Johnston C.B., Joseph F.B., et al. Social Vulnerability and Risk of Suicide in US Adults, 2016-2020. JAMA Netw. Open. 2023;6:e239995. doi: 10.1001/jamanetworkopen.2023.9995.', 'ArticleIdList': [StringElement('10.1001/jamanetworkopen.2023.9995', attributes={'IdType': 'doi'}), StringElement('PMC10134005', attributes={'IdType': 'pmc'}), StringElement('37099296', attributes={'IdType': 'pubmed'})]}, {'Citation': 'Johnson T.V., Garlow S.J., Brawley O.W., Master V.A. Peak Window of Suicides Occurs within the First Month of Diagnosis: Implications for Clinical Oncology. Psychooncology. 2012;21:351–356. doi: 10.1002/pon.1905.', 'ArticleIdList': [StringElement('10.1002/pon.1905', attributes={'IdType': 'doi'}), StringElement('21264989', attributes={'IdType': 'pubmed'})]}, {'Citation': 'Liu Q., Wang X., Kong X., Wang Z., Zhu M., Ren Y., Dong H., Fang Y., Wang J. Subsequent Risk of Suicide among 9,300,812 Cancer Survivors in US: A Population-Based Cohort Study Covering 40 Years of Data. eClinicalMedicine. 2022;44:101295. doi: 10.1016/j.eclinm.2022.101295.', 'ArticleIdList': [StringElement('10.1016/j.eclinm.2022.101295', attributes={'IdType': 'doi'}), StringElement('PMC8850339', attributes={'IdType': 'pmc'}), StringElement('35198920', attributes={'IdType': 'pubmed'})]}, {'Citation': 'Sahara K., Farooq S.A., Tsilimigras D.I., Merath K., Paredes A.Z., Wu L., Mehta R., Hyer J.M., Endo I., Pawlik T.M. Immunotherapy Utilization for Hepatobiliary Cancer in the United States: Disparities among Patients with Different Socioeconomic Status. Hepatobiliary Surg. Nutr. 2020;9:13–24. doi: 10.21037/hbsn.2019.07.01.', 'ArticleIdList': [StringElement('10.21037/hbsn.2019.07.01', attributes={'IdType': 'doi'}), StringElement('PMC7026778', attributes={'IdType': 'pmc'}), StringElement('32140475', attributes={'IdType': 'pubmed'})]}, {'Citation': 'Moyers J.T., Patel A., Shih W., Nagaraj G. Association of Sociodemographic Factors with Immunotherapy Receipt for Metastatic Melanoma in the US. JAMA Netw. Open. 2020;3:e2015656. doi: 10.1001/jamanetworkopen.2020.15656.', 'ArticleIdList': [StringElement('10.1001/jamanetworkopen.2020.15656', attributes={'IdType': 'doi'}), StringElement('PMC7489862', attributes={'IdType': 'pmc'}), StringElement('32876684', attributes={'IdType': 'pubmed'})]}, {'Citation': 'Ahn J.C., Lauzon M., Luu M., Noureddin M., Ayoub W., Kuo A., Sundaram V., Kosari K., Nissen N., Gong J., et al. Racial and Ethnic Disparities in Early Treatment with Immunotherapy for Advanced HCC in the United States. Hepatology. 2022;76:1649–1659. doi: 10.1002/hep.32527.', 'ArticleIdList': [StringElement('10.1002/hep.32527', attributes={'IdType': 'doi'}), StringElement('35429171', attributes={'IdType': 'pubmed'})]}, {'Citation': 'Dent K.R., Szymanski B.R., Kelley M.J., Katz I.R., McCarthy J.F. Suicide Risk Following a New Cancer Diagnosis among Veterans in Veterans Health Administration Care. Cancer Med. 2022;12:3520–3531. doi: 10.1002/cam4.5146.', 'ArticleIdList': [StringElement('10.1002/cam4.5146', attributes={'IdType': 'doi'}), StringElement('PMC9939100', attributes={'IdType': 'pmc'}), StringElement('36029038', attributes={'IdType': 'pubmed'})]}, {'Citation': 'Henson K.E., Brock R., Charnock J., Wickramasinghe B., Will O., Pitman A. Risk of Suicide after Cancer Diagnosis in England. JAMA Psychiatry. 2019;76:51–60. doi: 10.1001/jamapsychiatry.2018.3181.', 'ArticleIdList': [StringElement('10.1001/jamapsychiatry.2018.3181', attributes={'IdType': 'doi'}), StringElement('PMC6583458', attributes={'IdType': 'pmc'}), StringElement('30476945', attributes={'IdType': 'pubmed'})]}, {'Citation': 'Nasseri K., Mills P.K., Mirshahidi H.R., Moulton L.H. Suicide in Cancer Patients in California, 1997–2006. Arch. Suicide Res. 2012;16:324–333. doi: 10.1080/13811118.2013.722056.', 'ArticleIdList': [StringElement('10.1080/13811118.2013.722056', attributes={'IdType': 'doi'}), StringElement('23137222', attributes={'IdType': 'pubmed'})]}, {'Citation': 'Komic A., Taludker A., Walsh N., Jones A., Lawson A., Bateson B., Kruse E.J. Suicide Risk in Melanoma: What Do We Know? Am. Surg. 2017;83:E435–E437. doi: 10.1177/000313481708301107.', 'ArticleIdList': [StringElement('10.1177/000313481708301107', attributes={'IdType': 'doi'}), StringElement('30454229', attributes={'IdType': 'pubmed'})]}, {'Citation': 'Choi N.G., DiNitto D.M., Marti C.N., Conwell Y. Physical Health Problems as a Late-Life Suicide Precipitant: Examination of Coroner/Medical Examiner and Law Enforcement Reports. Gerontol. 2019;59:356–367. doi: 10.1093/geront/gnx143.', 'ArticleIdList': [StringElement('10.1093/geront/gnx143', attributes={'IdType': 'doi'}), StringElement('28958040', attributes={'IdType': 'pubmed'})]}, {'Citation': 'Shivarov V., Shivarov H., Yordanov A. Seasonality of Suicides among Cancer Patients. Biol. Rhythm. Res. 2022;53:1932–1940. doi: 10.1080/09291016.2022.2054124.', 'ArticleIdList': [StringElement('10.1080/09291016.2022.2054124', attributes={'IdType': 'doi'})]}, {'Citation': 'Beard C.J., Travis L.B., Chen M.-H., Arvold N.D., Nguyen P.L., Martin N.E., Kuban D.A., Ng A.K., Hoffman K.E. Outcomes in Stage I Testicular Seminoma: A Population-Based Study of 9193 Patients: Mortality in Stage 1 Testicular Seminoma. Cancer. 2013;119:2771–2777. doi: 10.1002/cncr.28086.', 'ArticleIdList': [StringElement('10.1002/cncr.28086', attributes={'IdType': 'doi'}), StringElement('23633409', attributes={'IdType': 'pubmed'})]}, {'Citation': 'Aboumrad M., Fuld A., Soncrant C., Neily J., Paull D., Watts B.V. Root Cause Analysis of Oncology Adverse Events in the Veterans Health Administration. J. Oncol. Pr. Pract. 2018;14:e579–e590. doi: 10.1200/JOP.18.00159.', 'ArticleIdList': [StringElement('10.1200/JOP.18.00159', attributes={'IdType': 'doi'}), StringElement('30110226', attributes={'IdType': 'pubmed'})]}, {'Citation': 'Wang Q., Zeng Z., Nan J., Zheng Y., Liu H. Cause of Death among Patients with Thyroid Cancer: A Population-Based Study. Front. Oncol. 2022;12:852347. doi: 10.3389/fonc.2022.852347.', 'ArticleIdList': [StringElement('10.3389/fonc.2022.852347', attributes={'IdType': 'doi'}), StringElement('PMC8964038', attributes={'IdType': 'pmc'}), StringElement('35359353', attributes={'IdType': 'pubmed'})]}, {'Citation': 'Alanee S., Russo P. Suicide in Men with Testis Cancer. Eur. J. Cancer Care. 2012;21:817–821. doi: 10.1111/j.1365-2354.2012.01366.x.', 'ArticleIdList': [StringElement('10.1111/j.1365-2354.2012.01366.x', attributes={'IdType': 'doi'}), StringElement('22624649', attributes={'IdType': 'pubmed'})]}, {'Citation': 'Turaga K.K., Malafa M.P., Jacobsen P.B., Schell M.J., Sarr M.G. Suicide in Patients with Pancreatic Cancer. Cancer. 2011;117:642–647. doi: 10.1002/cncr.25428.', 'ArticleIdList': [StringElement('10.1002/cncr.25428', attributes={'IdType': 'doi'}), StringElement('PMC4704452', attributes={'IdType': 'pmc'}), StringElement('20824626', attributes={'IdType': 'pubmed'})]}, {'Citation': 'Yang H., Qu Y., Shang Y., Wang C., Wang J., Lu D., Song H. Increased Risk of Suicide among Cancer Survivors Who Developed a Second Malignant Neoplasm. Comput. Intell. Neurosci. 2022;2022:2066133. doi: 10.1155/2022/2066133.', 'ArticleIdList': [StringElement('10.1155/2022/2066133', attributes={'IdType': 'doi'}), StringElement('PMC8763535', attributes={'IdType': 'pmc'}), StringElement('35047029', attributes={'IdType': 'pubmed'})]}, {'Citation': 'Fang F., Keating N.L., Mucci L.A., Adami H.-O., Stampfer M.J., Valdimarsdóttir U., Fall K. Immediate Risk of Suicide and Cardiovascular Death after a Prostate Cancer Diagnosis: Cohort Study in the United States. JNCI J. Natl. Cancer Inst. 2010;102:307–314. doi: 10.1093/jnci/djp537.', 'ArticleIdList': [StringElement('10.1093/jnci/djp537', attributes={'IdType': 'doi'}), StringElement('20124521', attributes={'IdType': 'pubmed'})]}, {'Citation': 'Saad A.M., Gad M.M., Al-Husseini M.J., AlKhayat M.A., Rachid A., Alfaar A.S., Hamoda H.M. Suicidal Death within a Year of a Cancer Diagnosis: A Population-Based Study. Cancer. 2019;125:972–979. doi: 10.1002/cncr.31876.', 'ArticleIdList': [StringElement('10.1002/cncr.31876', attributes={'IdType': 'doi'}), StringElement('30613943', attributes={'IdType': 'pubmed'})]}, {'Citation': 'Siracuse B.L., Gorgy G., Ruskin J., Beebe K.S. What Is the Incidence of Suicide in Patients with Bone and Soft Tissue Cancer?: Suicide and Sarcoma. Clin. Orthop. Relat. Res. 2017;475:1439–1445. doi: 10.1007/s11999-016-5171-y.', 'ArticleIdList': [StringElement('10.1007/s11999-016-5171-y', attributes={'IdType': 'doi'}), StringElement('PMC5384914', attributes={'IdType': 'pmc'}), StringElement('27896676', attributes={'IdType': 'pubmed'})]}, {'Citation': 'Horn S.R., Mackley H., Snyder T., Lehrer E.J., Trifiletti D.M., Zaorsky N.G. Long-Term Causes of Death among Pediatric Cancer Patients. Int. J. Radiat. Oncol. Biol. Phys. 2019;103:E16–E17. doi: 10.1016/S0360-3016(19)30438-9.', 'ArticleIdList': [StringElement('10.1016/S0360-3016(19)30438-9', attributes={'IdType': 'doi'})]}, {'Citation': 'Shen J., Zhu M., Li S., Wang Q., Wu J., Li Y., Wang Q., Bian X., Yang L., Jiang X., et al. Incidence and Risk Factors for Suicide Death among Kaposi’s Sarcoma Patients: A Surveillance, Epidemiology, and End Results Analysis. Med. Sci. Monit. 2020;26:e920711. doi: 10.12659/MSM.920711.', 'ArticleIdList': [StringElement('10.12659/MSM.920711', attributes={'IdType': 'doi'}), StringElement('PMC7083084', attributes={'IdType': 'pmc'}), StringElement('32148334', attributes={'IdType': 'pubmed'})]}, {'Citation': 'Barnes J.M., Johnson K.J., Grove J.L., Srivastava A.J., Osazuwa-Peters N., Perkins S.M. Risk of Suicide among Individuals with a History of Childhood Cancer. Cancer. 2022;128:624–632. doi: 10.1002/cncr.33957.', 'ArticleIdList': [StringElement('10.1002/cncr.33957', attributes={'IdType': 'doi'}), StringElement('34693522', attributes={'IdType': 'pubmed'})]}, {'Citation': 'Guo C., Zheng W., Zhu W., Yu S., Ding Y., Wu Q., Tang Q., Lu C. Risk Factors Associated with Suicide among Kidney Cancer Patients: A Surveillance, Epidemiology, and End Results Analysis. Cancer Med. 2019;8:5386–5396. doi: 10.1002/cam4.2400.', 'ArticleIdList': [StringElement('10.1002/cam4.2400', attributes={'IdType': 'doi'}), StringElement('PMC6718588', attributes={'IdType': 'pmc'}), StringElement('31297956', attributes={'IdType': 'pubmed'})]}, {'Citation': 'Guo Y., Dong X., Mao S., Yang F., Wang R., Ma W., Liu J., Li C., Zheng Z., Zhang W., et al. Causes of Death after Prostate Cancer Diagnosis: A Population-Based Study. Oxidative Med. Cell. Longev. 2022;2022:8145173. doi: 10.1155/2022/8145173.', 'ArticleIdList': [StringElement('10.1155/2022/8145173', attributes={'IdType': 'doi'}), StringElement('PMC9056212', attributes={'IdType': 'pmc'}), StringElement('35502209', attributes={'IdType': 'pubmed'})]}, {'Citation': 'Anderson C., Park E.M., Rosenstein D.L., Nichols H.B. Suicide Rates among Patients with Cancers of the Digestive System. Psychooncology. 2018;27:2274–2280. doi: 10.1002/pon.4827.', 'ArticleIdList': [StringElement('10.1002/pon.4827', attributes={'IdType': 'doi'}), StringElement('PMC6584762', attributes={'IdType': 'pmc'}), StringElement('29956393', attributes={'IdType': 'pubmed'})]}, {'Citation': 'Yang J., He G., Chen S., Pan Z., Zhang J., Li Y., Lyu J. Incidence and Risk Factors for Suicide Death in Male Patients with Genital-System Cancer in the United States. Eur. J. Surg. Oncol. 2019;45:1969–1976. doi: 10.1016/j.ejso.2019.03.022.', 'ArticleIdList': [StringElement('10.1016/j.ejso.2019.03.022', attributes={'IdType': 'doi'}), StringElement('30914288', attributes={'IdType': 'pubmed'})]}, {'Citation': 'Chen Y., Yu K., Xiong J., Zhang J., Zhou S., Dai J., Wu M., Wang S. Suicide and Accidental Death among Women with Primary Ovarian Cancer: A Population-Based Study. Front. Med. 2022;9:833965. doi: 10.3389/fmed.2022.833965.', 'ArticleIdList': [StringElement('10.3389/fmed.2022.833965', attributes={'IdType': 'doi'}), StringElement('PMC8966220', attributes={'IdType': 'pmc'}), StringElement('35372450', attributes={'IdType': 'pubmed'})]}, {'Citation': 'Samawi H.H., Shaheen A.A., Tang P.A., Heng D.Y.C., Cheung W.Y., Vickers M.M. Risk and Predictors of Suicide in Colorectal Cancer Patients: A Surveillance, Epidemiology, and End Results Analysis. Curr. Oncol. 2017;24:e513–e517. doi: 10.3747/co.24.3713.', 'ArticleIdList': [StringElement('10.3747/co.24.3713', attributes={'IdType': 'doi'}), StringElement('PMC5736490', attributes={'IdType': 'pmc'}), StringElement('29270060', attributes={'IdType': 'pubmed'})]}, {'Citation': 'Zhang X., Sun S., Peng P., Ma F., Tang F. Prediction of Risk of Suicide Death among Lung Cancer Patients after the Cancer Diagnosis. J. Affect. Disord. 2021;292:448–453. doi: 10.1016/j.jad.2021.05.123.', 'ArticleIdList': [StringElement('10.1016/j.jad.2021.05.123', attributes={'IdType': 'doi'}), StringElement('34144370', attributes={'IdType': 'pubmed'})]}, {'Citation': 'Yu K., Wu B., Chen Y., Kang H., Song K., Dong Y., Peng R., Li F. Suicide and Accidental Deaths among Patients with Primary Malignant Bone Tumors. J. Bone Oncol. 2021;27:100353. doi: 10.1016/j.jbo.2021.100353.', 'ArticleIdList': [StringElement('10.1016/j.jbo.2021.100353', attributes={'IdType': 'doi'}), StringElement('PMC8047448', attributes={'IdType': 'pmc'}), StringElement('33889483', attributes={'IdType': 'pubmed'})]}, {'Citation': 'Osazuwa-Peters N., Barnes J.M., Okafor S.I., Taylor D.B., Hussaini A.S., Adjei Boakye E., Simpson M.C., Graboyes E.M., Lee W.T. Incidence and Risk of Suicide among Patients with Head and Neck Cancer in Rural, Urban, and Metropolitan Areas. JAMA Otolaryngol. Head Neck Surg. 2021;147:1045. doi: 10.1001/jamaoto.2021.1728.', 'ArticleIdList': [StringElement('10.1001/jamaoto.2021.1728', attributes={'IdType': 'doi'}), StringElement('PMC8304170', attributes={'IdType': 'pmc'}), StringElement('34297790', attributes={'IdType': 'pubmed'})]}, {'Citation': 'Dalela D., Krishna N., Okwara J., Preston M.A., Abdollah F., Choueiri T.K., Reznor G., Sammon J.D., Schmid M., Kibel A.S., et al. Suicide and Accidental Deaths among Patients with Non-Metastatic Prostate Cancer. BJU Int. 2016;118:286–297. doi: 10.1111/bju.13257.', 'ArticleIdList': [StringElement('10.1111/bju.13257', attributes={'IdType': 'doi'}), StringElement('26305451', attributes={'IdType': 'pubmed'})]}, {'Citation': 'Jayakrishnan T.T., Sekigami Y., Rajeev R., Gamblin T.C., Turaga K.K. Morbidity of Curative Cancer Surgery and Suicide Risk. Psychooncology. 2017;26:1792–1798. doi: 10.1002/pon.4221.', 'ArticleIdList': [StringElement('10.1002/pon.4221', attributes={'IdType': 'doi'}), StringElement('27421798', attributes={'IdType': 'pubmed'})]}, {'Citation': 'Heynemann S., Thompson K., Moncur D., Silva S., Jayawardana M., Lewin J. Risk Factors Associated with Suicide in Adolescents and Young Adults (AYA) with Cancer. Cancer Med. 2021;10:7339–7346. doi: 10.1002/cam4.4246.', 'ArticleIdList': [StringElement('10.1002/cam4.4246', attributes={'IdType': 'doi'}), StringElement('PMC8525084', attributes={'IdType': 'pmc'}), StringElement('34586755', attributes={'IdType': 'pubmed'})]}, {'Citation': 'Yang P., Zhang L., Hou X. Incidence of Suicide among Adolescent and Young Adult Cancer Patients: A Population-Based Study. Cancer Cell Int. 2021;21:540. doi: 10.1186/s12935-021-02225-y.', 'ArticleIdList': [StringElement('10.1186/s12935-021-02225-y', attributes={'IdType': 'doi'}), StringElement('PMC8522157', attributes={'IdType': 'pmc'}), StringElement('34663328', attributes={'IdType': 'pubmed'})]}, {'Citation': 'Pham T.T., Talukder A.M., Walsh N.J., Lawson A.G., Jones A.J., Bishop J.L., Kruse E.J. Clinical and Epidemiological Factors Associated with Suicide in Colorectal Cancer. Support. Care Cancer. 2019;27:617–621. doi: 10.1007/s00520-018-4354-3.', 'ArticleIdList': [StringElement('10.1007/s00520-018-4354-3', attributes={'IdType': 'doi'}), StringElement('30027329', attributes={'IdType': 'pubmed'})]}, {'Citation': 'Fu X.-L., Wu H., Qian Y., Jin X.-H., Yu H.-R., Du L., Chen H.-L., Shi Y.-Q. Incidence of Suicide Mortality among Childhood Cancer Survivors: A Population-Based Retrospective Study. Psychiatry Res. 2021;304:114119. doi: 10.1016/j.psychres.2021.114119.', 'ArticleIdList': [StringElement('10.1016/j.psychres.2021.114119', attributes={'IdType': 'doi'}), StringElement('34325189', attributes={'IdType': 'pubmed'})]}, {'Citation': 'Simpson W.G., Klaassen Z., Jen R.P., Hughes W.M., Neal D.E., Jr., Terris M.K. Analysis of Suicide Risk in Patients with Penile Cancer and Review of the Literature. Clin. Genitourin. Cancer. 2018;16:e257–e261. doi: 10.1016/j.clgc.2017.09.011.', 'ArticleIdList': [StringElement('10.1016/j.clgc.2017.09.011', attributes={'IdType': 'doi'}), StringElement('29126815', attributes={'IdType': 'pubmed'})]}, {'Citation': 'Zaorsky N.G., Churilla T.M., Egleston B.L., Fisher S.G., Ridge J.A., Horwitz E.M., Meyer J.E. Causes of Death among Cancer Patients. Ann. Oncol. 2017;28:400–407. doi: 10.1093/annonc/mdw604.', 'ArticleIdList': [StringElement('10.1093/annonc/mdw604', attributes={'IdType': 'doi'}), StringElement('PMC5834100', attributes={'IdType': 'pmc'}), StringElement('27831506', attributes={'IdType': 'pubmed'})]}]}], 'History': [DictElement({'Year': '2023', 'Month': '9', 'Day': '6'}, attributes={'PubStatus': 'received'}), DictElement({'Year': '2023', 'Month': '10', 'Day': '3'}, attributes={'PubStatus': 'revised'}), DictElement({'Year': '2023', 'Month': '10', 'Day': '13'}, attributes={'PubStatus': 'accepted'}), DictElement({'Year': '2023', 'Month': '10', 'Day': '28', 'Hour': '11', 'Minute': '48'}, attributes={'PubStatus': 'medline'}), DictElement({'Year': '2023', 'Month': '10', 'Day': '28', 'Hour': '11', 'Minute': '47'}, attributes={'PubStatus': 'pubmed'}), DictElement({'Year': '2023', 'Month': '10', 'Day': '28', 'Hour': '1', 'Minute': '5'}, attributes={'PubStatus': 'entrez'})], 'PublicationStatus': 'epublish', 'ArticleIdList': [StringElement('37892700', attributes={'IdType': 'pubmed'}), StringElement('PMC10607431', attributes={'IdType': 'pmc'}), StringElement('10.3390/jcm12206563', attributes={'IdType': 'doi'}), StringElement('jcm12206563', attributes={'IdType': 'pii'})]}}]}"
      ]
     },
     "execution_count": 88,
     "metadata": {},
     "output_type": "execute_result"
    }
   ],
   "source": [
    "first = list(raw_data)[0]\n",
    "first"
   ]
  },
  {
   "cell_type": "code",
   "execution_count": 89,
   "metadata": {},
   "outputs": [
    {
     "data": {
      "text/plain": [
       "dict_keys(['PubmedBookArticle', 'PubmedArticle'])"
      ]
     },
     "execution_count": 89,
     "metadata": {},
     "output_type": "execute_result"
    }
   ],
   "source": [
    "first.keys()"
   ]
  },
  {
   "cell_type": "code",
   "execution_count": 90,
   "metadata": {},
   "outputs": [
    {
     "data": {
      "text/plain": [
       "dict_keys(['MedlineCitation', 'PubmedData'])"
      ]
     },
     "execution_count": 90,
     "metadata": {},
     "output_type": "execute_result"
    }
   ],
   "source": [
    "first[\"PubmedArticle\"][0].keys()"
   ]
  },
  {
   "cell_type": "code",
   "execution_count": 91,
   "metadata": {},
   "outputs": [
    {
     "data": {
      "text/plain": [
       "dict_keys(['ReferenceList', 'History', 'PublicationStatus', 'ArticleIdList'])"
      ]
     },
     "execution_count": 91,
     "metadata": {},
     "output_type": "execute_result"
    }
   ],
   "source": [
    "first[\"PubmedArticle\"][0][\"PubmedData\"].keys()"
   ]
  },
  {
   "cell_type": "code",
   "execution_count": 28,
   "metadata": {},
   "outputs": [
    {
     "data": {
      "text/plain": [
       "StringElement('36633525', attributes={'IdType': 'pubmed'})"
      ]
     },
     "execution_count": 28,
     "metadata": {},
     "output_type": "execute_result"
    }
   ],
   "source": [
    "first[\"PubmedArticle\"][0][\"PubmedData\"][\"ReferenceList\"][0][\"Reference\"][0][\"ArticleIdList\"][1]"
   ]
  },
  {
   "cell_type": "code",
   "execution_count": 93,
   "metadata": {},
   "outputs": [
    {
     "data": {
      "text/plain": [
       "['36633525', '37141156', '34408877', '30643135', '31745237', '32538322']"
      ]
     },
     "execution_count": 93,
     "metadata": {},
     "output_type": "execute_result"
    }
   ],
   "source": [
    "explorer.get_cited_pmids(first)[:6]"
   ]
  },
  {
   "cell_type": "code",
   "execution_count": 94,
   "metadata": {},
   "outputs": [],
   "source": [
    "adjacency_matrix = pd.DataFrame(np.zeros((df.shape[0], df.shape[0])))\n",
    "adjacency_matrix.index = df[\"pmid\"]\n",
    "adjacency_matrix.columns = df[\"pmid\"]\n",
    "\n",
    "for index, pmid in enumerate(df[\"pmid\"]):\n",
    "    efetch_record = raw_data[index]\n",
    "    try:\n",
    "        cited_pmids = get_cited_pmids(efetch_record)\n",
    "    except Exception as e:\n",
    "        continue\n",
    "    for cited_pmid in cited_pmids:\n",
    "        if cited_pmid in adjacency_matrix.columns:\n",
    "            adjacency_matrix.loc[pmid, cited_pmid] = 1"
   ]
  }
 ],
 "metadata": {
  "kernelspec": {
   "display_name": "oop",
   "language": "python",
   "name": "python3"
  },
  "language_info": {
   "codemirror_mode": {
    "name": "ipython",
    "version": 3
   },
   "file_extension": ".py",
   "mimetype": "text/x-python",
   "name": "python",
   "nbconvert_exporter": "python",
   "pygments_lexer": "ipython3",
   "version": "3.11.5"
  }
 },
 "nbformat": 4,
 "nbformat_minor": 2
}
