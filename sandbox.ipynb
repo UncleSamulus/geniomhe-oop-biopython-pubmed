{
 "cells": [
  {
   "cell_type": "code",
   "execution_count": 21,
   "metadata": {},
   "outputs": [],
   "source": [
    "%load_ext autoreload\n",
    "%autoreload 2"
   ]
  },
  {
   "cell_type": "code",
   "execution_count": 22,
   "metadata": {},
   "outputs": [],
   "source": [
    "import pandas as pd\n",
    "import numpy as np\n",
    "\n",
    "from Bio import Entrez\n",
    "Entrez.email = \"samuel.ortion@etud.univ-evry.fr\"\n",
    "\n",
    "import pubmed"
   ]
  },
  {
   "cell_type": "code",
   "execution_count": 2,
   "metadata": {},
   "outputs": [],
   "source": [
    "result = Entrez.esearch(db=\"pubmed\", term=\"cancer\")\n",
    "record = Entrez.read(result)\n",
    "result.close()\n",
    "first_pmid = record[\"IdList\"][0]"
   ]
  },
  {
   "cell_type": "code",
   "execution_count": 3,
   "metadata": {},
   "outputs": [],
   "source": [
    "paper_result = Entrez.efetch(db=\"pubmed\", id=first_pmid, retmode=\"xml\")\n",
    "paper_record = Entrez.read(paper_result)\n",
    "paper_result.close()"
   ]
  },
  {
   "cell_type": "code",
   "execution_count": 4,
   "metadata": {},
   "outputs": [
    {
     "data": {
      "text/plain": [
       "'10.1097/UPJ.0000000000000471'"
      ]
     },
     "execution_count": 4,
     "metadata": {},
     "output_type": "execute_result"
    }
   ],
   "source": [
    "# Extract the DOI\n",
    "doi_element = paper_record[\"PubmedArticle\"][0][\"MedlineCitation\"][\"Article\"][\"ELocationID\"][0]\n",
    "doi = str(doi_element)\n",
    "doi"
   ]
  }
 ],
 "metadata": {
  "kernelspec": {
   "display_name": "oop",
   "language": "python",
   "name": "python3"
  },
  "language_info": {
   "codemirror_mode": {
    "name": "ipython",
    "version": 3
   },
   "file_extension": ".py",
   "mimetype": "text/x-python",
   "name": "python",
   "nbconvert_exporter": "python",
   "pygments_lexer": "ipython3",
   "version": "3.11.5"
  }
 },
 "nbformat": 4,
 "nbformat_minor": 2
}
